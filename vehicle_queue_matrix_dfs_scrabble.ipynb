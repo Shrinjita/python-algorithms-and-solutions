{
 "cells": [
  {
   "cell_type": "code",
   "execution_count": 5,
   "metadata": {},
   "outputs": [
    {
     "name": "stdout",
     "output_type": "stream",
     "text": [
      "State: Tripura\n",
      "District: Agartala\n",
      "Sum: 17\n"
     ]
    }
   ],
   "source": [
    "def sum_digits(digit_array):\n",
    "    return sum(digit_array)\n",
    "\n",
    "def main():\n",
    "    vehicle_number = input()\n",
    "    state_code = vehicle_number[:2]\n",
    "    district_code = vehicle_number[2:4]\n",
    "    vehicle_digits = [int(digit) for digit in vehicle_number[6:]]\n",
    "\n",
    "    if state_code == 'TR':\n",
    "        state = 'Tripura'\n",
    "    elif state_code == 'MZ':\n",
    "        state = 'Mizoram'\n",
    "    else:\n",
    "        state = 'Invalid State Code'\n",
    "\n",
    "    if state_code == 'TR':\n",
    "        districts = {\n",
    "            '01': 'Agartala',\n",
    "            '02': 'Kailasahar',\n",
    "            '03': 'Udaipur',\n",
    "            '04': 'Ambassa',\n",
    "            '05': 'Dharmanagar',\n",
    "            '06': 'Khowai',\n",
    "            '07': 'Sepahijala',\n",
    "            '08': 'Santirbazar'\n",
    "        }\n",
    "    elif state_code == 'MZ':\n",
    "        districts = {\n",
    "            '01': 'Aizawl',\n",
    "            '02': 'Lunglei',\n",
    "            '03': 'Saiha',\n",
    "            '04': 'Champhai',\n",
    "            '05': 'Kolasib',\n",
    "            '06': 'Serchhip',\n",
    "            '07': 'Lawngtlai',\n",
    "            '08': 'Mamit'\n",
    "        }\n",
    "\n",
    "    district = districts.get(district_code, 'Invalid District Code')\n",
    "\n",
    "    digit_sum = sum_digits(vehicle_digits)\n",
    "\n",
    "    print(f'State: {state}')\n",
    "    print(f'District: {district}')\n",
    "    print(f'Sum: {digit_sum}')\n",
    "\n",
    "if __name__ == \"__main__\":\n",
    "    main()"
   ]
  },
  {
   "cell_type": "code",
   "execution_count": 9,
   "metadata": {},
   "outputs": [
    {
     "name": "stdout",
     "output_type": "stream",
     "text": [
      "3 5 6 1 10 12\n"
     ]
    }
   ],
   "source": [
    "n = int(input())\n",
    "m = int(input())\n",
    "members = list(map(int, input().split()))\n",
    "\n",
    "if m < 1 and n <= 1:\n",
    "    print(-1)\n",
    "else:\n",
    "    queue = []\n",
    "    for member in members:\n",
    "        if len(queue) < n:\n",
    "            queue.append(member)\n",
    "        else:\n",
    "            if queue[0] % 2 == 0:\n",
    "                queue.append(member)\n",
    "                queue.pop(0)\n",
    "            else:\n",
    "                queue.append(member)\n",
    "    print(' '.join(map(str, queue)))"
   ]
  },
  {
   "cell_type": "code",
   "execution_count": 10,
   "metadata": {},
   "outputs": [
    {
     "name": "stdout",
     "output_type": "stream",
     "text": [
      "15 16.88\n"
     ]
    }
   ],
   "source": [
    "import math\n",
    "\n",
    "m, n = map(int, input().split())\n",
    "matrix = []\n",
    "for _ in range(m):\n",
    "    matrix.append(list(map(int, input().split())))\n",
    "\n",
    "if m != n:\n",
    "    print(\"Error: Matrix is not square\")\n",
    "else:\n",
    "    trace = sum(matrix[i][i] for i in range(m))\n",
    "    normal = math.sqrt(sum(element**2 for row in matrix for element in row))\n",
    "    print(f\"{trace} {normal:.2f}\")"
   ]
  },
  {
   "cell_type": "code",
   "execution_count": 14,
   "metadata": {},
   "outputs": [
    {
     "name": "stdout",
     "output_type": "stream",
     "text": [
      "20\n",
      "20 20 1 20 3\n",
      "20 20 20 20 20\n",
      "20 20 20 20 20\n",
      "20 20 20 20 20\n"
     ]
    }
   ],
   "source": [
    "def dfs(board, i, j):\n",
    "    if i < 0 or i >= len(board) or j < 0 or j >= len(board[0]) or board[i][j] == 20 or board[i][j] == 0:\n",
    "        return 0\n",
    "    count = 1\n",
    "    temp = board[i][j]\n",
    "    board[i][j] = 20\n",
    "    count += dfs(board, i-1, j)\n",
    "    count += dfs(board, i+1, j)\n",
    "    count += dfs(board, i, j-1)\n",
    "    count += dfs(board, i, j+1)\n",
    "    if count == temp:\n",
    "        for x in range(len(board)):\n",
    "            for y in range(len(board[0])):\n",
    "                if (abs(x-i) + abs(y-j) == 1) and board[x][y] == 20:\n",
    "                    board[x][y] = 0\n",
    "    return count\n",
    "\n",
    "n = int(input())\n",
    "board = []\n",
    "for _ in range(n):\n",
    "    row = list(map(int, input().split()))\n",
    "    board.append(row)\n",
    "\n",
    "for i in range(n):\n",
    "    for j in range(len(board[i])):\n",
    "        if board[i][j] != 20 and board[i][j] != 0:\n",
    "            dfs(board, i, j)\n",
    "\n",
    "for row in board:\n",
    "    print(' '.join(map(str, row)))"
   ]
  },
  {
   "cell_type": "code",
   "execution_count": 15,
   "metadata": {},
   "outputs": [
    {
     "name": "stdout",
     "output_type": "stream",
     "text": [
      "8\n"
     ]
    }
   ],
   "source": [
    "def calculate_scrabble_score(word):\n",
    "    word = word.upper()\n",
    "    score = 0\n",
    "    letter_values = {\n",
    "        'Q': 10, 'Z': 10,\n",
    "        'J': 8, 'X': 8,\n",
    "        'K': 5,\n",
    "        'F': 4, 'H': 4, 'V': 4, 'W': 4, 'Y': 4,\n",
    "        'B': 3, 'C': 3, 'M': 3, 'P': 3,\n",
    "        'D': 2, 'G': 2,\n",
    "    }\n",
    "    for letter in word:\n",
    "        if letter == '?':\n",
    "            score += 0\n",
    "        elif letter in letter_values:\n",
    "            score += letter_values[letter]\n",
    "        else:\n",
    "            score += 1\n",
    "    return score\n",
    "\n",
    "word = input(\"Enter a word: \")\n",
    "print(calculate_scrabble_score(word))"
   ]
  },
  {
   "cell_type": "code",
   "execution_count": 18,
   "metadata": {},
   "outputs": [
    {
     "name": "stdout",
     "output_type": "stream",
     "text": [
      "The reversed word is BACNJ\n"
     ]
    }
   ],
   "source": [
    "def calculate_scrabble_score(word):\n",
    "    word = word.upper()\n",
    "    reversed_word = word[::-1]\n",
    "    score = 0\n",
    "    letter_values = {\n",
    "        'Q': 10, 'Z': 10,\n",
    "        'J': 8, 'X': 8,\n",
    "        'K': 5,\n",
    "        'F': 4, 'H': 4, 'V': 4, 'W': 4, 'Y': 4,\n",
    "        'B': 3, 'C': 3, 'M': 3, 'P': 3,\n",
    "        'D': 2, 'G': 2,\n",
    "    }\n",
    "    for letter in word:\n",
    "        if letter == '?':\n",
    "            score += 0\n",
    "        elif letter in letter_values:\n",
    "            score += letter_values[letter]\n",
    "        else:\n",
    "            score += 1\n",
    "    return reversed_word, score\n",
    "\n",
    "# Test the function\n",
    "word = input(\"Enter a word: \")\n",
    "reversed_word, score = calculate_scrabble_score(word)\n",
    "print(\"The reversed word is\", reversed_word)\n"
   ]
  },
  {
   "cell_type": "code",
   "execution_count": null,
   "metadata": {},
   "outputs": [],
   "source": []
  }
 ],
 "metadata": {
  "kernelspec": {
   "display_name": "base",
   "language": "python",
   "name": "python3"
  },
  "language_info": {
   "codemirror_mode": {
    "name": "ipython",
    "version": 3
   },
   "file_extension": ".py",
   "mimetype": "text/x-python",
   "name": "python",
   "nbconvert_exporter": "python",
   "pygments_lexer": "ipython3",
   "version": "3.9.13"
  }
 },
 "nbformat": 4,
 "nbformat_minor": 2
}
