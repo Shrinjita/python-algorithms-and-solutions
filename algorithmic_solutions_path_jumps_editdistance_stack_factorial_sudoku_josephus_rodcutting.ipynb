{
 "cells": [
  {
   "cell_type": "code",
   "execution_count": 2,
   "metadata": {},
   "outputs": [
    {
     "name": "stdout",
     "output_type": "stream",
     "text": [
      "2\n"
     ]
    }
   ],
   "source": [
    "def min_jumps(arr):\n",
    "    n = len(arr)\n",
    "    if n == 1:\n",
    "        return 0\n",
    "    if arr[0] == 0:\n",
    "        return -1\n",
    "\n",
    "    jumps = 1\n",
    "    max_reach = arr[0]\n",
    "    steps = arr[0]\n",
    "\n",
    "    for i in range(1, n):\n",
    "        if i == n - 1:\n",
    "            return jumps\n",
    "\n",
    "        max_reach = max(max_reach, i + arr[i])\n",
    "        steps -= 1\n",
    "\n",
    "        if steps == 0:\n",
    "            jumps += 1\n",
    "            if i >= max_reach:\n",
    "                return -1\n",
    "            steps = max_reach - i\n",
    "\n",
    "    return -1\n",
    "\n",
    "# Read input from the user\n",
    "input_data = input(\"Enter the elements of the array separated by spaces: \").strip().split()\n",
    "N = int(input_data[0])\n",
    "arr = list(map(int, input_data[1:]))\n",
    "\n",
    "# Call the function and print the result\n",
    "result = min_jumps(arr)\n",
    "print(result)\n"
   ]
  },
  {
   "cell_type": "code",
   "execution_count": 2,
   "metadata": {},
   "outputs": [
    {
     "name": "stdout",
     "output_type": "stream",
     "text": [
      "6\n"
     ]
    }
   ],
   "source": [
    "def levenshtein_distance(X, Y):\n",
    "    m = len(X)\n",
    "    n = len(Y)\n",
    "    \n",
    "    # Create a matrix to store distances\n",
    "    dp = [[0] * (n + 1) for _ in range(m + 1)]\n",
    "\n",
    "    # Initialize the first row and column of the matrix\n",
    "    for i in range(m + 1):\n",
    "        dp[i][0] = i\n",
    "    for j in range(n + 1):\n",
    "        dp[0][j] = j\n",
    "\n",
    "    # Compute the Levenshtein distance\n",
    "    for i in range(1, m + 1):\n",
    "        for j in range(1, n + 1):\n",
    "            if X[i - 1] == Y[j - 1]:\n",
    "                dp[i][j] = dp[i - 1][j - 1]\n",
    "            else:\n",
    "                dp[i][j] = 1 + min(dp[i - 1][j],    # Deletion\n",
    "                                   dp[i][j - 1],    # Insertion\n",
    "                                   dp[i - 1][j - 1]) # Substitution\n",
    "\n",
    "    return dp[m][n]\n",
    "\n",
    "# Read input from the user\n",
    "input_data = input(\"Enter two space-separated strings: \").strip().split()\n",
    "X = input_data[0]\n",
    "Y = input_data[1]\n",
    "\n",
    "# Calculate and print the Levenshtein distance\n",
    "print(levenshtein_distance(X, Y))\n"
   ]
  },
  {
   "cell_type": "code",
   "execution_count": 3,
   "metadata": {},
   "outputs": [
    {
     "name": "stdout",
     "output_type": "stream",
     "text": [
      "FACTORIAL IS : 120\n"
     ]
    }
   ],
   "source": [
    "class Stack:\n",
    "    def __init__(self, size):\n",
    "        self.stack = []\n",
    "        self.size = size\n",
    "    \n",
    "    def is_full(self):\n",
    "        return len(self.stack) >= self.size\n",
    "    \n",
    "    def is_empty(self):\n",
    "        return len(self.stack) == 0\n",
    "    \n",
    "    def push(self, item):\n",
    "        if self.is_full():\n",
    "            return \"STACK OVERFLOW\"\n",
    "        self.stack.append(item)\n",
    "    \n",
    "    def pop(self):\n",
    "        if self.is_empty():\n",
    "            return \"STACK UNDERFLOW\"\n",
    "        return self.stack.pop()\n",
    "\n",
    "def factorial_with_stack(n):\n",
    "    if n == 0:\n",
    "        return \"FACTORIAL IS : 1\"\n",
    "    \n",
    "    # Define the maximum size of the stack\n",
    "    max_stack_size = 100\n",
    "    stack = Stack(max_stack_size)\n",
    "    \n",
    "    result = 1\n",
    "    \n",
    "    for i in range(1, n + 1):\n",
    "        if stack.push(i) == \"STACK OVERFLOW\":\n",
    "            return \"STACK OVERFLOW\"\n",
    "    \n",
    "    while not stack.is_empty():\n",
    "        result *= stack.pop()\n",
    "    \n",
    "    return f\"FACTORIAL IS : {result}\"\n",
    "\n",
    "# Taking user input\n",
    "try:\n",
    "    n = int(input(\"Enter a number: \"))\n",
    "    print(factorial_with_stack(n))\n",
    "except ValueError:\n",
    "    print(\"Please enter a valid integer.\")\n"
   ]
  },
  {
   "cell_type": "code",
   "execution_count": 4,
   "metadata": {},
   "outputs": [
    {
     "name": "stdout",
     "output_type": "stream",
     "text": [
      "1 0 0 0\n",
      "1 1 0 0\n",
      "0 1 0 0\n",
      "0 1 1 1\n"
     ]
    }
   ],
   "source": [
    "def find_path(matrix, N):\n",
    "    path = [[0 for _ in range(N)] for _ in range(N)]\n",
    "    \n",
    "    if not find_path_util(matrix, 0, 0, path, N):\n",
    "        return -1\n",
    "    return path\n",
    "\n",
    "def find_path_util(matrix, x, y, path, N):\n",
    "    if x == N-1 and y == N-1 and matrix[x][y] == 1:\n",
    "        path[x][y] = 1\n",
    "        return True\n",
    "\n",
    "    if is_safe(matrix, x, y, N):\n",
    "        path[x][y] = 1\n",
    "        \n",
    "        if find_path_util(matrix, x + 1, y, path, N):\n",
    "            return True\n",
    "        \n",
    "        if find_path_util(matrix, x, y + 1, path, N):\n",
    "            return True\n",
    "        \n",
    "        path[x][y] = 0\n",
    "        return False\n",
    "\n",
    "    return False\n",
    "\n",
    "def is_safe(matrix, x, y, N):\n",
    "    return 0 <= x < N and 0 <= y < N and matrix[x][y] == 1\n",
    "\n",
    "def main():\n",
    "    input_data = input().split()\n",
    "    N = int(input_data[0])\n",
    "    matrix_elements = list(map(int, input_data[1:]))\n",
    "    matrix = []\n",
    "    for i in range(N):\n",
    "        matrix.append(matrix_elements[i * N:(i + 1) * N])\n",
    "    \n",
    "    result = find_path(matrix, N)\n",
    "    if result == -1:\n",
    "        print(result)\n",
    "    else:\n",
    "        for row in result:\n",
    "            print(\" \".join(map(str, row)))\n",
    "\n",
    "if __name__ == \"__main__\":\n",
    "    main()\n"
   ]
  },
  {
   "cell_type": "code",
   "execution_count": 5,
   "metadata": {},
   "outputs": [
    {
     "name": "stdout",
     "output_type": "stream",
     "text": [
      "10\n"
     ]
    }
   ],
   "source": [
    "def rod_cutting(prices, n):\n",
    "    # Create a table to store solutions of subproblems\n",
    "    dp = [0] * (n + 1)\n",
    "    \n",
    "    # Fill the dp array in a bottom-up manner\n",
    "    for i in range(1, n + 1):\n",
    "        max_val = float('-inf')\n",
    "        for j in range(i):\n",
    "            max_val = max(max_val, prices[j] + dp[i - j - 1])\n",
    "        dp[i] = max_val\n",
    "    \n",
    "    return dp[n]\n",
    "\n",
    "def main():\n",
    "    # Prices for rod lengths 1 to 8\n",
    "    prices = [1, 5, 8, 9, 10, 17, 17, 20]\n",
    "    \n",
    "    # Taking user input for the length of the rod\n",
    "    n = int(input(\"Enter the length of the rod: \"))\n",
    "    \n",
    "    # Get the maximum profit\n",
    "    max_profit = rod_cutting(prices, n)\n",
    "    \n",
    "    # Print the maximum profit\n",
    "    print(max_profit)\n",
    "\n",
    "if __name__ == \"__main__\":\n",
    "    main()\n"
   ]
  },
  {
   "cell_type": "code",
   "execution_count": 6,
   "metadata": {},
   "outputs": [
    {
     "name": "stdout",
     "output_type": "stream",
     "text": [
      "Input: 14 2\n",
      "Output: 13\n"
     ]
    }
   ],
   "source": [
    "def josephus(n, m):\n",
    "    # Initialize a list representing the circle of people\n",
    "    circle = list(range(1, n + 1))\n",
    "    # Start from the first person\n",
    "    index = 0\n",
    "    while len(circle) > 1:\n",
    "        # Find the next person to be eliminated\n",
    "        index = (index + m - 1) % len(circle)\n",
    "        # Remove the eliminated person from the circle\n",
    "        circle.pop(index)\n",
    "    # Return the last remaining person\n",
    "    return circle[0]\n",
    "\n",
    "# Input from user\n",
    "n = int(input(\"Enter the number of persons in the circle: \"))\n",
    "m = int(input(\"Enter the elimination count: \"))\n",
    "\n",
    "print(\"Input:\", n, m)\n",
    "print(\"Output:\", josephus(n, m))\n"
   ]
  },
  {
   "cell_type": "code",
   "execution_count": 8,
   "metadata": {},
   "outputs": [
    {
     "name": "stdout",
     "output_type": "stream",
     "text": [
      "0\n"
     ]
    }
   ],
   "source": [
    "def count_dividing_elements(arr, L, R):\n",
    "    count = 0\n",
    "    for num in arr:\n",
    "        if all(num % i == 0 for i in range(L, R+1)):\n",
    "            count += 1\n",
    "    return count\n",
    "\n",
    "# Input\n",
    "N = int(input())\n",
    "arr = list(map(int, input().split()))\n",
    "L, R = map(int, input().split())\n",
    "\n",
    "# Count dividing elements\n",
    "result = count_dividing_elements(arr, L, R)\n",
    "\n",
    "# Output\n",
    "print(result)\n"
   ]
  },
  {
   "cell_type": "code",
   "execution_count": 9,
   "metadata": {},
   "outputs": [
    {
     "name": "stdout",
     "output_type": "stream",
     "text": [
      "5 3 4 6 7 8 9 1 2\n",
      "6 7 2 1 9 5 3 4 8\n",
      "1 9 8 3 4 2 5 6 7\n",
      "8 5 9 7 6 1 4 2 3\n",
      "4 2 6 8 5 3 7 9 1\n",
      "7 1 3 9 2 4 8 5 6\n",
      "9 6 1 5 3 7 2 8 4\n",
      "2 8 7 4 1 9 6 3 5\n",
      "3 4 5 2 8 6 1 7 9\n"
     ]
    }
   ],
   "source": [
    "def is_valid(grid, row, col, num):\n",
    "    # Check if the number is already in the row\n",
    "    if num in grid[row]:\n",
    "        return False\n",
    "    \n",
    "    # Check if the number is already in the column\n",
    "    if num in [grid[i][col] for i in range(9)]:\n",
    "        return False\n",
    "    \n",
    "    # Check if the number is already in the subgrid\n",
    "    start_row, start_col = 3 * (row // 3), 3 * (col // 3)\n",
    "    for i in range(start_row, start_row + 3):\n",
    "        for j in range(start_col, start_col + 3):\n",
    "            if grid[i][j] == num:\n",
    "                return False\n",
    "    \n",
    "    return True\n",
    "\n",
    "def solve_sudoku(grid):\n",
    "    for row in range(9):\n",
    "        for col in range(9):\n",
    "            if grid[row][col] == 0:\n",
    "                for num in range(1, 10):\n",
    "                    if is_valid(grid, row, col, num):\n",
    "                        grid[row][col] = num\n",
    "                        if solve_sudoku(grid):\n",
    "                            return True\n",
    "                        grid[row][col] = 0\n",
    "                return False\n",
    "    return True\n",
    "\n",
    "# Input\n",
    "grid_input = list(map(int, input().split()))\n",
    "grid = [grid_input[i:i+9] for i in range(0, 81, 9)]\n",
    "\n",
    "# Solve Sudoku\n",
    "if solve_sudoku(grid):\n",
    "    # Output\n",
    "    for row in grid:\n",
    "        print(*row)\n",
    "else:\n",
    "    print(\"No solution\")\n"
   ]
  },
  {
   "cell_type": "code",
   "execution_count": 10,
   "metadata": {},
   "outputs": [
    {
     "name": "stdout",
     "output_type": "stream",
     "text": [
      "E G H J K L M "
     ]
    }
   ],
   "source": [
    "class Node:\n",
    "    def __init__(self, data):\n",
    "        self.data = data\n",
    "        self.next = None\n",
    "\n",
    "def generate_fibonacci(n):\n",
    "    fib = [0, 1]\n",
    "    while len(fib) <= n:\n",
    "        fib.append(fib[-1] + fib[-2])\n",
    "    return fib\n",
    "\n",
    "def create_linked_list(n):\n",
    "    head = Node('A')\n",
    "    current = head\n",
    "    for i in range(1, n):\n",
    "        current.next = Node(chr(ord('A') + i))\n",
    "        current = current.next\n",
    "    return head\n",
    "\n",
    "def delete_nodes(head, fib_sequence):\n",
    "    current = head\n",
    "    prev = None\n",
    "    index = 0\n",
    "    while current:\n",
    "        if index in fib_sequence:\n",
    "            if prev:\n",
    "                prev.next = current.next\n",
    "            else:\n",
    "                head = current.next\n",
    "        else:\n",
    "            prev = current\n",
    "        current = current.next\n",
    "        index += 1\n",
    "    return head\n",
    "\n",
    "def print_linked_list(head):\n",
    "    current = head\n",
    "    while current:\n",
    "        print(current.data, end=' ')\n",
    "        current = current.next\n",
    "\n",
    "n = int(input())\n",
    "fib_sequence = generate_fibonacci(n)\n",
    "head = create_linked_list(fib_sequence[-1])\n",
    "head = delete_nodes(head, fib_sequence)\n",
    "print_linked_list(head)\n"
   ]
  },
  {
   "cell_type": "code",
   "execution_count": null,
   "metadata": {},
   "outputs": [],
   "source": []
  }
 ],
 "metadata": {
  "kernelspec": {
   "display_name": "Python 3",
   "language": "python",
   "name": "python3"
  },
  "language_info": {
   "codemirror_mode": {
    "name": "ipython",
    "version": 3
   },
   "file_extension": ".py",
   "mimetype": "text/x-python",
   "name": "python",
   "nbconvert_exporter": "python",
   "pygments_lexer": "ipython3",
   "version": "3.9.13"
  }
 },
 "nbformat": 4,
 "nbformat_minor": 2
}
